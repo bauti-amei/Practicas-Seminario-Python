{
 "cells": [
  {
   "cell_type": "markdown",
   "metadata": {},
   "source": [
    "Ejercicio 1 : imprimir las lineas del zen de python que comiencen con vocal"
   ]
  },
  {
   "cell_type": "code",
   "execution_count": null,
   "metadata": {},
   "outputs": [
    {
     "name": "stdout",
     "output_type": "stream",
     "text": [
      "[['Beautiful', 'is', 'better', 'than', 'ugly.'], ['Explicit', 'is', 'better', 'than', 'implicit.'], ['Simple', 'is', 'better', 'than', 'complex.'], ['Complex', 'is', 'better', 'than', 'complicated.'], ['Flat', 'is', 'better', 'than', 'nested.'], ['Sparse', 'is', 'better', 'than', 'dense.'], ['Readability', 'counts.'], ['Special', 'cases', \"aren't\", 'special', 'enough', 'to', 'break', 'the', 'rules.'], ['Although', 'practicality', 'beats', 'purity.'], ['Errors', 'should', 'never', 'pass', 'silently.'], ['Unless', 'explicitly', 'silenced.'], ['In', 'the', 'face', 'of', 'ambiguity,', 'refuse', 'the', 'temptation', 'to', 'guess.'], ['There', 'should', 'be', 'one--', 'and', 'preferably', 'only', 'one', '--obvious', 'way', 'to', 'do', 'it.'], ['Although', 'that', 'way', 'may', 'not', 'be', 'obvious', 'at', 'first', 'unless', \"you're\", 'Dutch.'], ['Now', 'is', 'better', 'than', 'never.'], ['Although', 'never', 'is', 'often', 'better', 'than', '*right*', 'now.'], ['If', 'the', 'implementation', 'is', 'hard', 'to', 'explain,', \"it's\", 'a', 'bad', 'idea.'], ['If', 'the', 'implementation', 'is', 'easy', 'to', 'explain,', 'it', 'may', 'be', 'a', 'good', 'idea.'], ['Namespaces', 'are', 'one', 'honking', 'great', 'idea', '--', \"let's\", 'do', 'more', 'of', 'those!']]\n",
      "Beautiful is better than ugly.\n",
      "Explicit is better than implicit.\n",
      "Simple is better than complex.\n",
      "Complex is better than complicated.\n",
      "Flat is better than nested.\n",
      "Sparse is better than dense.\n",
      "Unless explicitly silenced.\n",
      "Now is better than never.\n",
      "Namespaces are one honking great idea -- let's do more of those! \n"
     ]
    }
   ],
   "source": [
    "vocales = ('a','e','i','o','u', 'A', 'E', 'I', 'O', 'U')\n",
    "\n",
    "zen_text = '''Beautiful is better than ugly.\n",
    "Explicit is better than implicit.\n",
    "Simple is better than complex.\n",
    "Complex is better than complicated.\n",
    "Flat is better than nested.\n",
    "Sparse is better than dense.\n",
    "Readability counts.\n",
    "Special cases aren't special enough to break the rules.\n",
    "Although practicality beats purity.\n",
    "Errors should never pass silently.\n",
    "Unless explicitly silenced.\n",
    "In the face of ambiguity, refuse the temptation to guess.\n",
    "There should be one-- and preferably only one --obvious way to do it.\n",
    "Although that way may not be obvious at first unless you're Dutch.\n",
    "Now is better than never.\n",
    "Although never is often better than *right* now.\n",
    "If the implementation is hard to explain, it's a bad idea.\n",
    "If the implementation is easy to explain, it may be a good idea.\n",
    "Namespaces are one honking great idea -- let's do more of those! '''\n",
    "\n",
    "#Genero una lista donde sus elementos corresponden a una frase del zen\n",
    "lineas = zen_text.split(\"\\n\")\n",
    "\n",
    "#Genero una lista donde sus elementos son otra lista con las respectivas palabras de la frase \n",
    "palabras = [words.split() for words in lineas]\n",
    "\n",
    "#Recorro la lista palabras accediendo a la primer letra de la segunda palabra (precondicion todas las frases del zen tiene al menos dos palabras)\n",
    "for index in range(len(palabras)):\n",
    "    if palabras[index][1][0] in vocales:\n",
    "        print (lineas[index])\n",
    "\n",
    "\n"
   ]
  },
  {
   "cell_type": "markdown",
   "metadata": {},
   "source": [
    "Ejercicio 2 : Dado un listado de títulos de streams en Twitch, encuentre el título con más palabras y muéstrelo en pantalla"
   ]
  },
  {
   "cell_type": "code",
   "execution_count": 30,
   "metadata": {},
   "outputs": [
    {
     "name": "stdout",
     "output_type": "stream",
     "text": [
      "El titulo con mas palabras es Jugando al nuevo FPS del momento con amigos\n"
     ]
    }
   ],
   "source": [
    "titles = [\n",
    "    \"Speedrun de Super Mario en tiempo récord\",\n",
    "    \"Charla sobre desarrollo de videojuegos\",\n",
    "    \"Jugando al nuevo FPS del momento con amigos\",\n",
    "    \"Música en vivo: improvisaciones al piano\"\n",
    "]\n",
    "\n",
    "palabras = [titulo.split() for titulo in titles]\n",
    "\n",
    "max =-1\n",
    "for index in range (len(palabras)):\n",
    "    if (len(palabras[index]) > max):\n",
    "        max = len(palabras[index])\n",
    "        titulo_max = titles[index]\n",
    "\n",
    "print (f\"El titulo con mas palabras es {titulo_max}\")\n"
   ]
  },
  {
   "cell_type": "markdown",
   "metadata": {},
   "source": [
    "Ejercicio 3 : Dado un codigo de conducta para un servidor de Discord, solicite una palabra clave al usuario e imprima todas las reglas que las contenga."
   ]
  },
  {
   "cell_type": "code",
   "execution_count": 3,
   "metadata": {},
   "outputs": [
    {
     "name": "stdout",
     "output_type": "stream",
     "text": [
      "Respeta a los demás. No se permiten insultos ni lenguaje\n",
      "Evita el spam. No publiques enlaces sospechosos o repetitivos.\n",
      "No compartas información personal.\n"
     ]
    }
   ],
   "source": [
    "rules = \"\"\"Respeta a los demás. No se permiten insultos ni lenguaje\n",
    "ofensivo.\n",
    "Evita el spam. No publiques enlaces sospechosos o repetitivos.\n",
    "No compartas información personal.\n",
    "Usa los canales adecuados para cada tema.\n",
    "Sigue las instrucciones de los moderadores.\"\"\"\n",
    "\n",
    "rules = rules.split(\"\\n\")\n",
    "\n",
    "clave = input(\"Ingrese una palabra clave\")\n",
    "for regla in rules:\n",
    "    if clave in regla:\n",
    "        print(regla)"
   ]
  },
  {
   "cell_type": "markdown",
   "metadata": {},
   "source": [
    "Ejercicio 4 : validar un nombre de usuario, con los siguientes criterios \n",
    "    * Al menos 5 caracteres\n",
    "    * Contiene al menos un numero\n",
    "    * Contiene al menos una letra mayuscula\n",
    "    * Solo puede contener letras y numeros"
   ]
  },
  {
   "cell_type": "code",
   "execution_count": null,
   "metadata": {},
   "outputs": [
    {
     "name": "stdout",
     "output_type": "stream",
     "text": [
      "El nombre de usuario NO es valido\n"
     ]
    }
   ],
   "source": [
    "import string\n",
    "\n",
    "nombre_usuario = input(\"Ingrese el nombre de usuario\")\n",
    "\n",
    "es_valido = False\n",
    "\n",
    "if (len (nombre_usuario) >= 5):\n",
    "    if any(char.isdigit() for char in nombre_usuario):\n",
    "        if any (char.isupper() for char in nombre_usuario):\n",
    "            for char in nombre_usuario:\n",
    "                if char in string.punctuation:\n",
    "                    break\n",
    "            es_valido = True\n",
    "\n",
    "print (\"El nombre de usuario es valido\" if es_valido else \"El nombre de usuario NO es valido\")\n"
   ]
  },
  {
   "cell_type": "markdown",
   "metadata": {},
   "source": [
    "Ejercicio 5 : Dado el tiempo de reacción de un jugador en milisegundos, clasifíquelo en las siguientes\n",
    "categorías: \n",
    "    * Menos de 200 ms: Rápido\n",
    "    * Entre 200 y 500 ms: Normal\n",
    "    * Más de 500 ms: Lento"
   ]
  },
  {
   "cell_type": "code",
   "execution_count": 28,
   "metadata": {},
   "outputs": [
    {
     "name": "stdout",
     "output_type": "stream",
     "text": [
      "Categoria : Lento\n"
     ]
    }
   ],
   "source": [
    "tiempo = int (input (\"Ingrese el tiempo en milisegundos\"))\n",
    "\n",
    "if (tiempo<200):\n",
    "    print (\"Categoria : Rapido\")\n",
    "elif (tiempo<=200 and tiempo<=500):\n",
    "    print (\"Categoria : Normal\")\n",
    "else:\n",
    "    print (\"Categoria : Lento\")"
   ]
  },
  {
   "cell_type": "markdown",
   "metadata": {},
   "source": [
    "Ejericio 6 : Dadas varias descripciones de streams en Twitch, cuente cuántas menciones hay de\n",
    "\"entretenimiento\", \"música\" y \"charla\" "
   ]
  },
  {
   "cell_type": "code",
   "execution_count": 1,
   "metadata": {},
   "outputs": [
    {
     "name": "stdout",
     "output_type": "stream",
     "text": [
      "Menciones de musica : 4\n",
      "Menciones de charla : 2\n",
      "Meniciones de entretenimiento 1\n"
     ]
    }
   ],
   "source": [
    "descriptions = [\"Streaming de música en vivo con covers y composiciones\",\n",
    "\"Charla interactiva con la audiencia sobre series y películas\",\n",
    "\"Jugamos a juegos retro y charlamos sobre su historia\",\n",
    "\"Exploramos la mejor música de los 80s y 90s\",\n",
    "\"Programa de entretenimiento con noticias y curiosidades del mundo gamer\",\n",
    "\"Sesión de charla con invitados especiales del mundo del streaming\",\n",
    "\"Música en directo con improvisaciones y peticiones del chat\",\n",
    "\"Un espacio para charlar relajada sobre tecnología y cultura digital\",\n",
    "\"Exploramos el impacto de la música en los videojuegos clásicos\"]\n",
    "\n",
    "palabras = [palabra.lower() for frase in descriptions for palabra in frase.split()]\n",
    "\n",
    "cant_entretenimiento = palabras.count(\"entretenimiento\")\n",
    "cant_musica = palabras.count(\"música\")\n",
    "cant_charla = palabras.count(\"charla\")\n",
    "\n",
    "\n",
    "print (f\"Menciones de musica : {cant_musica}\")\n",
    "print(f\"Menciones de charla : {cant_charla}\")\n",
    "print (f\"Meniciones de entretenimiento {cant_entretenimiento}\")\n"
   ]
  },
  {
   "cell_type": "markdown",
   "metadata": {},
   "source": [
    "Ejercicio 7 : Generador de codigo de descuento, genere un código de descuento aleatorio para un usuario en base a su nombre, la fecha actual y el resto deben ser números o letras aleatorias. El código debe tener una longitud de 30 caracteres, todas las letras deben ser mayúsculas. El usuario debe ingresarse por teclado y debe validar que no exeda los 15 caracteres."
   ]
  },
  {
   "cell_type": "code",
   "execution_count": 23,
   "metadata": {},
   "outputs": [
    {
     "name": "stdout",
     "output_type": "stream",
     "text": [
      "El codigo generado es STREAMERPRO-20250410-Z54G1FBW9\n"
     ]
    }
   ],
   "source": [
    "import random\n",
    "import string\n",
    "\n",
    "caracteresAgregar = string.ascii_uppercase + string.digits\n",
    "\n",
    "\n",
    "user = input (\"Ingrese su nombre de usuario\")\n",
    "fecha = input (\"Ingrese su fecha de nacimiento año-mes-dia\")\n",
    "\n",
    "if len(user)<=15 and len(fecha)<=15:\n",
    "    fecha = fecha.split(\"-\")\n",
    "    user = user.upper()\n",
    "    cod = user + \"-\"\n",
    "\n",
    "    for elem in fecha:\n",
    "        cod = cod + elem\n",
    "\n",
    "    if len(cod)<30:\n",
    "        cod = cod + \"-\"\n",
    "        cantAgregar = 30 - len(cod)\n",
    "        for i in range(cantAgregar):\n",
    "            cod = cod + caracteresAgregar[random.randint(0, (len(caracteresAgregar)-1))]\n",
    "    print (f\"El codigo generado es {cod}\")\n",
    "else:\n",
    "    print (\"Se excedio en 15 caracteres en el nombre o la fecha\")\n",
    "\n"
   ]
  },
  {
   "cell_type": "markdown",
   "metadata": {},
   "source": [
    "Ejercicio 8 : determine si dos palabras ingresadas son anagramas (contienen las mismas letras en\n",
    "diferente orden)."
   ]
  },
  {
   "cell_type": "code",
   "execution_count": 26,
   "metadata": {},
   "outputs": [
    {
     "name": "stdout",
     "output_type": "stream",
     "text": [
      "NO es anagrama\n"
     ]
    }
   ],
   "source": [
    "palabra1 = input(\"Ingrese la primera palabra\")\n",
    "palabra2 = input (\"Ingrese la segunda palabra\")\n",
    "\n",
    "es_anagrama = True\n",
    "\n",
    "for elem in palabra1:\n",
    "    if not(elem in palabra2):\n",
    "        es_anagrama = False\n",
    "        break\n",
    "print (\"Es anagrama\" if es_anagrama else \"NO es anagrama\")"
   ]
  },
  {
   "cell_type": "markdown",
   "metadata": {},
   "source": [
    "Ejercicio 9 : Limpieza de datos. Eres un analista de datos en una empresa que ha recibido una lista de nombres de clientes\n",
    "de distintas fuentes. Sin embargo, estos datos contienen errores, espacios en blanco, nombres repetidos y\n",
    "valores nulos. Tu tarea es desarrollar un sistema que limpie y estandarice estos datos para poder usarlos\n",
    "en el sistema de facturación.\n",
    "\n",
    "* Eliminar espacios extra en los nombres.\n",
    "* Convertir todos los nombres a formato de título (primera letra en mayúscula y el\n",
    "* resto en minúscula).\n",
    "* Eliminar registros duplicados para evitar clientes repetidos.\n",
    "* Eliminar valores vacíos o nulos, ya que no aportan información válida.\n",
    "* Mostrar la lista limpia de clientes listos para usar en el sistema de facturación"
   ]
  },
  {
   "cell_type": "code",
   "execution_count": 35,
   "metadata": {},
   "outputs": [
    {
     "name": "stdout",
     "output_type": "stream",
     "text": [
      "['Ana López', 'Pedro Gómez', 'Maria Martínez', 'Pedro Gómez', 'Luis Rodríguez', 'Ana López', 'Juan Pérez', 'Marta Suárez', 'Luis Rodríguez', 'María Martínez', 'Claudia Torres', 'Claudia Torres', 'Pedro Gómez', 'Juan Pérez', 'Ricardo Fernández', 'Laura Ramos', 'Carlos Mendes', 'Ricardo Fernández', 'Laura Ramos', 'Carlos Mendes', 'Alejandro González', 'Alejandro González', 'Patricia Vega', 'Patricia Vega', 'Andrés Ocampo', 'Andrés Ocampo', 'Monica Herrera', 'Monica Herrera', 'Gabriela Ruíz', 'Gabriela Ruíz', 'Sandra Morales', 'Sandra Morales', 'Miguel Ángel', 'Miguel Ángel', 'Damián Castillo', 'Damián Castillo']\n"
     ]
    }
   ],
   "source": [
    "clients = [\" Ana López \", \"Pedro Gómez\", \"maria martínez\", \"Pedro Gómez \", \"\",\n",
    "\" Luis Rodríguez \", None, \"ana lópez\", \"JUAN PÉREZ\", \"MARTA SUÁREZ\",\n",
    "\"luis rodríguez\", \"maría martínez \", \" claudia torres\", \"CLAUDIA TORRES\",\n",
    "\" \", \"pedro gómez\", \"Juan Pérez\", None, \"Ricardo Fernández\", \"LAURA RAMOS\",\n",
    "\"carlos mendes\", \"RICARDO FERNÁNDEZ \", \" Laura ramos\", \"CARLOS MENDES\",\n",
    "\"alejandro gonzález\", \" ALEJANDRO GONZÁLEZ \", \"Patricia Vega\",\n",
    "\"patricia VEGA\", \"Andrés Ocampo\", \" andrés ocampo\", \"Monica Herrera\",\n",
    "\"MONICA HERRERA \", \"gabriela ruíz\", \"Gabriela Ruíz\", \"sandra morales\",\n",
    "\"SANDRA MORALES\", \"miguel ángel\", \"Miguel Ángel \", \" Damián Castillo\",\n",
    "\"Damián Castillo \", None, \"\", \" \"]\n",
    "\n",
    "\n",
    "clients = [cliente.strip().title() for cliente in clients if not cliente in [None, \"\", \" \"]]\n",
    "\n",
    "print (clients)\n"
   ]
  }
 ],
 "metadata": {
  "kernelspec": {
   "display_name": "venv",
   "language": "python",
   "name": "python3"
  },
  "language_info": {
   "codemirror_mode": {
    "name": "ipython",
    "version": 3
   },
   "file_extension": ".py",
   "mimetype": "text/x-python",
   "name": "python",
   "nbconvert_exporter": "python",
   "pygments_lexer": "ipython3",
   "version": "3.12.9"
  }
 },
 "nbformat": 4,
 "nbformat_minor": 2
}
