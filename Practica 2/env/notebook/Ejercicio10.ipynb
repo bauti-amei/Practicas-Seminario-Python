{
 "cells": [
  {
   "cell_type": "markdown",
   "metadata": {},
   "source": [
    "Ejercicio 10 : Simule varias partidas de un juego de disparos y genere un ranking basado en el puntaje total de cada jugador. Se utilizará el siguiente sistema de puntuación:\n",
    "\n",
    "Kill = 3 puntos\n",
    "Asistencia = 1 punto\n",
    "Muerte = -1\n",
    "\n",
    "Imprima las tablas de resultados luego de la inserción de cada una de las rondas pudiendo\n",
    "ver el progreso en el equipo.\n",
    "Además cada ronda debe tener un MVP (Mejor Jugador del Partido/ronda) basado en su\n",
    "puntuación. La cantidad de veces que el jugador ha sido MVP también se debe contabilizar\n",
    "Se debe imprimir el total de kills, asistencias, muertes, cantidad de MVP y puntos totales. La\n",
    "tabla tienen que estar en orden decreciente por los puntos totales.\n"
   ]
  },
  {
   "cell_type": "code",
   "execution_count": 23,
   "metadata": {},
   "outputs": [
    {
     "name": "stdout",
     "output_type": "stream",
     "text": [
      "['C:\\\\Users\\\\54239\\\\AppData\\\\Local\\\\Programs\\\\Python\\\\Python312\\\\python312.zip', 'C:\\\\Users\\\\54239\\\\AppData\\\\Local\\\\Programs\\\\Python\\\\Python312\\\\DLLs', 'C:\\\\Users\\\\54239\\\\AppData\\\\Local\\\\Programs\\\\Python\\\\Python312\\\\Lib', 'C:\\\\Users\\\\54239\\\\AppData\\\\Local\\\\Programs\\\\Python\\\\Python312', 'c:\\\\Users\\\\54239\\\\Documents\\\\UNLP\\\\Seminario Python\\\\Practica 1\\\\Practica 2\\\\env\\\\venv', '', 'c:\\\\Users\\\\54239\\\\Documents\\\\UNLP\\\\Seminario Python\\\\Practica 1\\\\Practica 2\\\\env\\\\venv\\\\Lib\\\\site-packages', 'c:\\\\Users\\\\54239\\\\Documents\\\\UNLP\\\\Seminario Python\\\\Practica 1\\\\Practica 2\\\\env\\\\venv\\\\Lib\\\\site-packages\\\\win32', 'c:\\\\Users\\\\54239\\\\Documents\\\\UNLP\\\\Seminario Python\\\\Practica 1\\\\Practica 2\\\\env\\\\venv\\\\Lib\\\\site-packages\\\\win32\\\\lib', 'c:\\\\Users\\\\54239\\\\Documents\\\\UNLP\\\\Seminario Python\\\\Practica 1\\\\Practica 2\\\\env\\\\venv\\\\Lib\\\\site-packages\\\\Pythonwin', 'c:\\\\Users\\\\54239\\\\Documents\\\\UNLP\\\\Seminario Python\\\\Practica 1\\\\Practica 2\\\\env\\\\notebook\\\\src', 'c:\\\\Users\\\\54239\\\\Documents\\\\UNLP\\\\Seminario Python\\\\Practica 1\\\\Practica 2\\\\env\\\\notebook\\\\src\\\\funciones', 'c:\\\\Users\\\\54239\\\\Documents\\\\UNLP\\\\Seminario Python\\\\Practica 1\\\\Practica 2\\\\env\\\\notebook\\\\src', 'c:\\\\Users\\\\54239\\\\Documents\\\\UNLP\\\\Seminario Python\\\\Practica 1\\\\Practica 2\\\\env\\\\notebook\\\\src', 'c:\\\\Users\\\\54239\\\\Documents\\\\UNLP\\\\Seminario Python\\\\Practica 1\\\\Practica 2\\\\env\\\\notebook\\\\src', 'c:\\\\Users\\\\54239\\\\Documents\\\\UNLP\\\\Seminario Python\\\\Practica 1\\\\Practica 2\\\\env\\\\notebook\\\\src', 'c:\\\\Users\\\\54239\\\\Documents\\\\UNLP\\\\Seminario Python\\\\Practica 1\\\\Practica 2\\\\env\\\\src', 'c:\\\\Users\\\\54239\\\\Documents\\\\UNLP\\\\Seminario Python\\\\Practica 1\\\\Practica 2\\\\env\\\\src', 'c:\\\\Users\\\\54239\\\\Documents\\\\UNLP\\\\Seminario Python\\\\Practica 1\\\\Practica 2\\\\env\\\\src', 'c:\\\\Users\\\\54239\\\\Documents\\\\UNLP\\\\Seminario Python\\\\Practica 1\\\\Practica 2\\\\env\\\\src', 'c:\\\\Users\\\\54239\\\\Documents\\\\UNLP\\\\Seminario Python\\\\Practica 1\\\\Practica 2\\\\env\\\\src', 'c:\\\\Users\\\\54239\\\\Documents\\\\UNLP\\\\Seminario Python\\\\Practica 1\\\\Practica 2\\\\env\\\\src', 'c:\\\\Users\\\\54239\\\\Documents\\\\UNLP\\\\Seminario Python\\\\Practica 1\\\\Practica 2\\\\env\\\\src', 'c:\\\\Users\\\\54239\\\\Documents\\\\UNLP\\\\Seminario Python\\\\Practica 1\\\\Practica 2\\\\env\\\\src', 'c:\\\\Users\\\\54239\\\\Documents\\\\UNLP\\\\Seminario Python\\\\Practica 1\\\\Practica 2\\\\env\\\\src']\n"
     ]
    },
    {
     "ename": "NameError",
     "evalue": "name 'calcular_puntaje' is not defined",
     "output_type": "error",
     "traceback": [
      "\u001b[31m---------------------------------------------------------------------------\u001b[39m",
      "\u001b[31mNameError\u001b[39m                                 Traceback (most recent call last)",
      "\u001b[36mCell\u001b[39m\u001b[36m \u001b[39m\u001b[32mIn[23]\u001b[39m\u001b[32m, line 69\u001b[39m\n\u001b[32m     67\u001b[39m     \u001b[38;5;28;01mfor\u001b[39;00m accion \u001b[38;5;129;01min\u001b[39;00m acciones:\n\u001b[32m     68\u001b[39m         resultados_ronda[jugador][accion] += ronda[jugador][accion]\n\u001b[32m---> \u001b[39m\u001b[32m69\u001b[39m     resultados_ronda[jugador][\u001b[33m'\u001b[39m\u001b[33mpuntos\u001b[39m\u001b[33m'\u001b[39m] = \u001b[43mcalcular_puntaje\u001b[49m(resultados_ronda[jugador])\n\u001b[32m     70\u001b[39m resultados_ronda[calcular_MVP(ronda)][\u001b[33m'\u001b[39m\u001b[33mMVP\u001b[39m\u001b[33m'\u001b[39m] += \u001b[32m1\u001b[39m\n\u001b[32m     71\u001b[39m \u001b[38;5;28mprint\u001b[39m (\u001b[33mf\u001b[39m\u001b[33m'\u001b[39m\u001b[33mRanking Ronda \u001b[39m\u001b[38;5;132;01m{\u001b[39;00mnro_ronda\u001b[38;5;132;01m}\u001b[39;00m\u001b[33m :\u001b[39m\u001b[33m'\u001b[39m)\n",
      "\u001b[31mNameError\u001b[39m: name 'calcular_puntaje' is not defined"
     ]
    }
   ],
   "source": [
    "import sys\n",
    "import os\n",
    "\n",
    "sys.path.append(os.path.abspath('../src'))\n",
    "\n",
    "print(sys.path)\n",
    "\n",
    "from funciones import *\n",
    "\n",
    "acciones = ('kills', 'assists', 'deaths')\n",
    "\n",
    "rounds = [\n",
    "    {\n",
    "        'Shadow': {'kills': 2, 'assists': 1, 'deaths': True},\n",
    "        'Blaze': {'kills': 1, 'assists': 0, 'deaths': False},\n",
    "        'Viper': {'kills': 1, 'assists': 2, 'deaths': True},\n",
    "        'Frost': {'kills': 0, 'assists': 1, 'deaths': False},\n",
    "        'Reaper': {'kills': 1, 'assists': 1, 'deaths': False}\n",
    "    },\n",
    "    {\n",
    "        'Shadow': {'kills': 0, 'assists': 2, 'deaths': False},\n",
    "        'Blaze': {'kills': 2, 'assists': 0, 'deaths': True},\n",
    "        'Viper': {'kills': 1, 'assists': 1, 'deaths': False},\n",
    "        'Frost': {'kills': 2, 'assists': 1, 'deaths': True},\n",
    "        'Reaper': {'kills': 0, 'assists': 1, 'deaths': False}\n",
    "    },\n",
    "    {\n",
    "        'Shadow': {'kills': 1, 'assists': 0, 'deaths': False},\n",
    "        'Blaze': {'kills': 2, 'assists': 2, 'deaths': True},\n",
    "        'Viper': {'kills': 1, 'assists': 1, 'deaths': True},\n",
    "        'Frost': {'kills': 0, 'assists': 1, 'deaths': False},\n",
    "        'Reaper': {'kills': 1, 'assists': 1, 'deaths': False}\n",
    "    },\n",
    "    {\n",
    "        'Shadow': {'kills': 2, 'assists': 1, 'deaths': False},\n",
    "        'Blaze': {'kills': 1, 'assists': 0, 'deaths': True},\n",
    "        'Viper': {'kills': 0, 'assists': 2, 'deaths': False},\n",
    "        'Frost': {'kills': 1, 'assists': 1, 'deaths': True},\n",
    "        'Reaper': {'kills': 1, 'assists': 1, 'deaths': False}\n",
    "    },\n",
    "    {\n",
    "        'Shadow': {'kills': 1, 'assists': 2, 'deaths': True},\n",
    "        'Blaze': {'kills': 0, 'assists': 1, 'deaths': False},\n",
    "        'Viper': {'kills': 2, 'assists': 0, 'deaths': True},\n",
    "        'Frost': {'kills': 1, 'assists': 1, 'deaths': False},\n",
    "        'Reaper': {'kills': 1, 'assists': 1, 'deaths': True}\n",
    "    }\n",
    "]\n",
    "\n",
    "resultados_ronda = {} \n",
    "resultado_jugador = {} \n",
    "ronda = rounds[0]\n",
    "\n",
    "#Inicializo los datos de cada uno de jugadores\n",
    "for jugador in ronda:\n",
    "    for accion in acciones:\n",
    "        resultado_jugador[accion] = 0\n",
    "    resultado_jugador['MVP'] = 0\n",
    "    resultado_jugador['puntos'] = 0\n",
    "    resultado_jugador = resultado_jugador.copy()\n",
    "    resultados_ronda[jugador] = resultado_jugador\n",
    "\n",
    "nro_ronda = 1\n",
    "#Procesar datos\n",
    "for ronda in rounds:\n",
    "    for jugador in ronda:\n",
    "        for accion in acciones:\n",
    "            resultados_ronda[jugador][accion] += ronda[jugador][accion]\n",
    "        resultados_ronda[jugador]['puntos'] = calcular_puntaje(resultados_ronda[jugador])\n",
    "    resultados_ronda[calcular_MVP(ronda)]['MVP'] += 1\n",
    "    print (f'Ranking Ronda {nro_ronda} :')\n",
    "    nro_ronda += 1\n",
    "    imprimir_ordenado(resultados_ronda)\n",
    "\n"
   ]
  }
 ],
 "metadata": {
  "kernelspec": {
   "display_name": "venv",
   "language": "python",
   "name": "python3"
  },
  "language_info": {
   "codemirror_mode": {
    "name": "ipython",
    "version": 3
   },
   "file_extension": ".py",
   "mimetype": "text/x-python",
   "name": "python",
   "nbconvert_exporter": "python",
   "pygments_lexer": "ipython3",
   "version": "3.12.9"
  }
 },
 "nbformat": 4,
 "nbformat_minor": 2
}
